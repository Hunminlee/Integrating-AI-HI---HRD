{
 "cells": [
  {
   "cell_type": "code",
   "execution_count": 1,
   "id": "e30572eb",
   "metadata": {},
   "outputs": [],
   "source": [
    "import pyreadstat\n",
    "import os\n",
    "import gc\n",
    "import numpy as np\n",
    "import pandas as pd\n",
    "import matplotlib.pyplot as plt"
   ]
  },
  {
   "cell_type": "markdown",
   "id": "87854014",
   "metadata": {},
   "source": [
    ".sav ===> import pyreadstat, pyreadstat.read_sav(file_path)\n",
    "\n",
    ".sas7bdat  ====> pandas, pd.read_sas(file_path)\n",
    "\n",
    ".dta  ===> pd.read_stata(file_path)"
   ]
  },
  {
   "cell_type": "markdown",
   "id": "8a1ddd69",
   "metadata": {},
   "source": [
    "Target 2nd Work\n",
    "\n",
    "W21Q15A1, W21Q15B1, W21Q15C1, W21Q15D1, W21Q15E1\n",
    "\n",
    "W21Q15A2, W21Q15B2, W21Q15C2, W21Q15D2, W21Q15E2"
   ]
  },
  {
   "cell_type": "code",
   "execution_count": 354,
   "id": "336f7ca3",
   "metadata": {},
   "outputs": [],
   "source": [
    "import xgboost as xgb\n",
    "from sklearn.datasets import make_classification\n",
    "from sklearn.model_selection import train_test_split\n",
    "from sklearn.metrics import accuracy_score, classification_report\n",
    "\n",
    "\n",
    "def XGBoost_binary(X, y):\n",
    "    X_train, X_test, y_train, y_test = train_test_split(X, y, test_size=0.1, random_state=42)\n",
    "\n",
    "    params = {'objective': 'binary:logistic',  # Binary classification\n",
    "              'eval_metric': 'logloss'         # Logarithmic loss\n",
    "             }\n",
    "\n",
    "    dtrain = xgb.DMatrix(X_train, label=y_train)\n",
    "    dtest = xgb.DMatrix(X_test, label=y_test)\n",
    "\n",
    "    num_rounds = 300  \n",
    "    model = xgb.train(params, dtrain, num_rounds)\n",
    "\n",
    "    y_pred_proba = model.predict(dtest)\n",
    "    y_pred = [1 if pred > 0.5 else 0 for pred in y_pred_proba]  # Convert probabilities to class labels\n",
    "\n",
    "    accuracy = accuracy_score(y_test, y_pred)\n",
    "    print(\"Accuracy:\", accuracy)\n",
    "    \n",
    "    return accuracy, model"
   ]
  },
  {
   "cell_type": "code",
   "execution_count": 361,
   "id": "ef117755",
   "metadata": {},
   "outputs": [],
   "source": [
    "def XGBoost_multiclass(X, y):\n",
    "    X_train, X_test, y_train, y_test = train_test_split(X, y, test_size=0.1, random_state=42)\n",
    "\n",
    "    params = {\n",
    "        'objective': 'multi:softmax',  # Multi-class classification\n",
    "        'num_class': len(set(y)),      # Number of classes\n",
    "        'eval_metric': 'merror'         # Error rate (1-accuracy)\n",
    "    }\n",
    "    \n",
    "    dtrain = xgb.DMatrix(X_train, label=y_train)\n",
    "    dtest = xgb.DMatrix(X_test, label=y_test)\n",
    "\n",
    "    num_rounds = 300\n",
    "    model = xgb.train(params, dtrain, num_rounds)\n",
    "    y_pred = model.predict(dtest)\n",
    "\n",
    "    accuracy = accuracy_score(y_test, y_pred)\n",
    "    print(\"Accuracy:\", accuracy)\n",
    "    feature_importance = model.get_score(importance_type='weight')\n",
    "\n",
    "    feature_importance = {k: v for k, v in sorted(feature_importance.items(), key=lambda item: item[1], reverse=True)}\n",
    "\n",
    "    plt.figure(figsize=(10, 6))\n",
    "    plt.barh(range(len(feature_importance)), list(feature_importance.values()), align='center')\n",
    "    plt.yticks(range(len(feature_importance)), list(feature_importance.keys()))\n",
    "    plt.xlabel('Feature Importance')\n",
    "    plt.ylabel('Feature')\n",
    "    plt.title('Feature Importance Plot')\n",
    "    plt.show()    \n",
    "    \n",
    "    return accuracy, feature_importance"
   ]
  },
  {
   "cell_type": "code",
   "execution_count": 4,
   "id": "5d6bc2a4",
   "metadata": {},
   "outputs": [],
   "source": [
    "def call_df():\n",
    "    path = 'C:/Users/hml76/Desktop/UMN/연구/HRD_Minjeong/Data/HCCPII_20230828/'\n",
    "    file_path = path+'2. SPSS/HCCP_2ndWave_Work_1st.sav'\n",
    "\n",
    "    df, meta = pyreadstat.read_sav(file_path)\n",
    "    columns_to_drop0 = ['W20ID2', 'W20ID3']\n",
    "    df = df.drop(columns=columns_to_drop0)\n",
    "    \n",
    "    #y = df[y_name]\n",
    "    #df.drop(columns=[y_name])\n",
    "    gc.collect()\n",
    "    return df"
   ]
  },
  {
   "cell_type": "markdown",
   "id": "000f4df1",
   "metadata": {},
   "source": [
    "# 첫번째 거른거"
   ]
  },
  {
   "cell_type": "code",
   "execution_count": 6,
   "id": "f8dbb858",
   "metadata": {},
   "outputs": [],
   "source": [
    "lst_R1 = ['W20IND1', 'W20SCALE', 'W20Q01B', 'W20Q02B', 'W20Q03A', 'W20Q03B', 'W20Q04', 'W20Q05B', 'W20Q061A', 'W20Q061B', \n",
    "'W20Q061C', 'W20Q061D', 'W20Q062A', 'W20Q062B', 'W20Q062C', 'W20Q062D', 'W20Q07', 'W20Q081A', 'W20Q081B', 'W20Q081C', \n",
    "'W20Q081D', 'W20Q081E', 'W20Q082A', 'W20Q082B', 'W20Q082C', 'W20Q082D', 'W20Q082E', 'W20Q083A', 'W20Q083B', 'W20Q083C', \n",
    "'W20Q083D', 'W20Q083E', 'W20Q09A', 'W20Q09B', 'W20Q09C', 'W20Q09D', 'W20Q09E', 'W20Q09F', 'W20Q09G', 'W20Q09H', 'W20Q10A', \n",
    "'W20Q10B', 'W20Q10C', 'W20Q10D', 'W20Q11A1', 'W20Q11B1', 'W20Q11A2', 'W20Q11B2', 'W20Q12A', 'W20Q12B', 'W20Q12C', 'W20Q13',\n",
    "'W20Q14A', 'W20Q14B', 'W20Q14C', 'W20Q14D', 'W20Q14E', 'W20Q14F', 'W20Q15A1', 'W20Q15B1', 'W20Q15C1', 'W20Q15D1', 'W20Q15E1',\n",
    "'W20Q15A2', 'W20Q15B2', 'W20Q15C2', 'W20Q15D2', 'W20Q15E2', 'W20Q16A1', 'W20Q16A2', 'W20Q17', 'W20Q18A', 'W20Q18B', 'W20Q19',\n",
    "'W20Q191', 'W20Q192', 'W20Q20', 'W20Q21', 'W20Q22A', 'W20Q22B', 'W20Q22C', 'W20Q22D', 'W20Q22E', 'W20Q22F', 'W20Q23A',\n",
    "'W20Q23B', 'W20Q23C', 'W20Q23D', 'W20Q24A', 'W20Q24B', 'W20Q24C', 'W20Q24D', 'W20Q24E', 'W20Q24F', 'W20Q25A', 'W20Q25B', \n",
    "'W20Q25C', 'W20Q25D', 'W20Q25E', 'W20Q25F', 'W20Q25G', 'W20Q25H', 'W20Q25I', 'W20Q25J', 'W20Q25K', 'W20Q25L', 'W20Q26A', \n",
    "'W20Q26B', 'W20Q26C', 'W20Q261', 'W20Q27A', 'W20Q27B', 'W20Q27C', 'W20Q27D', 'W20Q27E', 'W20Q27F', 'W20Q27G', 'W20Q28', \n",
    "'W20Q29', 'W20Q302', 'W20DQ01', 'W20DQ02B', 'W20DQ03', 'W20DQ04', 'W20DQ041']"
   ]
  },
  {
   "cell_type": "code",
   "execution_count": 7,
   "id": "d6f68bc1",
   "metadata": {},
   "outputs": [
    {
     "name": "stdout",
     "output_type": "stream",
     "text": [
      "Columns with NaN values and count of NaN values:\n",
      "Column 'W20Q11A2' has 2932 NaN value(s).\n",
      "Column 'W20Q11B2' has 3144 NaN value(s).\n",
      "Column 'W20Q15A2' has 4277 NaN value(s).\n",
      "Column 'W20Q15B2' has 3749 NaN value(s).\n",
      "Column 'W20Q15C2' has 3330 NaN value(s).\n",
      "Column 'W20Q15D2' has 5242 NaN value(s).\n",
      "Column 'W20Q15E2' has 6775 NaN value(s).\n",
      "Column 'W20Q16A2' has 6627 NaN value(s).\n",
      "Column 'W20Q16B2' has 9047 NaN value(s).\n",
      "Column 'W20Q16C2' has 9053 NaN value(s).\n",
      "Column 'W20Q16D2' has 9053 NaN value(s).\n",
      "Column 'W20Q191' has 5927 NaN value(s).\n",
      "Column 'W20Q192' has 5927 NaN value(s).\n",
      "Column 'W20Q31A' has 1737 NaN value(s).\n",
      "Column 'W20Q31B' has 7187 NaN value(s).\n",
      "Column 'W20DQ041' has 1532 NaN value(s).\n"
     ]
    }
   ],
   "source": [
    "df = call_df()\n",
    "\n",
    "nan_values = df.isna()\n",
    "nan_count_per_column = nan_values.sum()\n",
    "Nan_cols = []\n",
    "columns_with_nan = nan_count_per_column[nan_count_per_column > 0]  # Filter columns with NaN values\n",
    "print(\"Columns with NaN values and count of NaN values:\")\n",
    "for column, count in columns_with_nan.items():\n",
    "    print(f\"Column '{column}' has {count} NaN value(s).\")\n",
    "    Nan_cols.append(column)    \n",
    "    \n",
    "filtered_list = [x for x in lst_R1 if x not in Nan_cols]    "
   ]
  },
  {
   "cell_type": "code",
   "execution_count": null,
   "id": "04efcabe",
   "metadata": {},
   "outputs": [],
   "source": [
    "'''for i in range(len(lst_R1)):\n",
    "    print(df[lst_R1[i]].value_counts(), \"\\n\")"
   ]
  },
  {
   "cell_type": "code",
   "execution_count": null,
   "id": "f8b43725",
   "metadata": {},
   "outputs": [],
   "source": [
    "#그냥 그저 해볼만 한 레이블\n",
    "[9, 10, 11, 12, 13, 14 ,15]\n",
    "\n",
    "#진짜 괜찮은 레이블\n",
    "[]"
   ]
  },
  {
   "cell_type": "code",
   "execution_count": 12,
   "id": "f9e468db",
   "metadata": {},
   "outputs": [],
   "source": [
    "Result = []"
   ]
  },
  {
   "cell_type": "code",
   "execution_count": 277,
   "id": "c3a470b1",
   "metadata": {},
   "outputs": [
    {
     "data": {
      "text/plain": [
       "[3391, 1028]"
      ]
     },
     "execution_count": 277,
     "metadata": {},
     "output_type": "execute_result"
    }
   ],
   "source": [
    "cnt_value[1:3]"
   ]
  },
  {
   "cell_type": "code",
   "execution_count": null,
   "id": "9b74d6c7",
   "metadata": {},
   "outputs": [],
   "source": []
  },
  {
   "cell_type": "code",
   "execution_count": 293,
   "id": "1036e2d4",
   "metadata": {
    "scrolled": true
   },
   "outputs": [
    {
     "data": {
      "text/plain": [
       "4.0    3484\n",
       "3.0    3391\n",
       "2.0    1028\n",
       "5.0     844\n",
       "1.0     306\n",
       "Name: W20Q14D, dtype: int64"
      ]
     },
     "execution_count": 293,
     "metadata": {},
     "output_type": "execute_result"
    }
   ],
   "source": [
    "idx = 53\n",
    "DF = call_df()\n",
    "DF[filtered_list[idx]].value_counts()"
   ]
  },
  {
   "cell_type": "code",
   "execution_count": null,
   "id": "54f69a59",
   "metadata": {},
   "outputs": [],
   "source": []
  },
  {
   "cell_type": "code",
   "execution_count": 321,
   "id": "2c1480ac",
   "metadata": {},
   "outputs": [
    {
     "data": {
      "text/plain": [
       "4"
      ]
     },
     "execution_count": 321,
     "metadata": {},
     "output_type": "execute_result"
    }
   ],
   "source": [
    "len(cnt_value)"
   ]
  },
  {
   "cell_type": "code",
   "execution_count": 326,
   "id": "56097f70",
   "metadata": {},
   "outputs": [
    {
     "ename": "IndexError",
     "evalue": "list index out of range",
     "output_type": "error",
     "traceback": [
      "\u001b[1;31m---------------------------------------------------------------------------\u001b[0m",
      "\u001b[1;31mIndexError\u001b[0m                                Traceback (most recent call last)",
      "\u001b[1;32m~\\AppData\\Local\\Temp\\ipykernel_20640\\1579917215.py\u001b[0m in \u001b[0;36m<module>\u001b[1;34m\u001b[0m\n\u001b[0;32m     10\u001b[0m     \u001b[1;32mfor\u001b[0m \u001b[0mi\u001b[0m \u001b[1;32min\u001b[0m \u001b[0mrange\u001b[0m\u001b[1;33m(\u001b[0m\u001b[1;36m1\u001b[0m\u001b[1;33m,\u001b[0m\u001b[1;36m6\u001b[0m\u001b[1;33m)\u001b[0m\u001b[1;33m:\u001b[0m\u001b[1;33m\u001b[0m\u001b[1;33m\u001b[0m\u001b[0m\n\u001b[0;32m     11\u001b[0m         \u001b[1;32mif\u001b[0m \u001b[0mi\u001b[0m \u001b[1;33m==\u001b[0m \u001b[1;36m5\u001b[0m\u001b[1;33m:\u001b[0m\u001b[1;33m\u001b[0m\u001b[1;33m\u001b[0m\u001b[0m\n\u001b[1;32m---> 12\u001b[1;33m             \u001b[0mcnt_value\u001b[0m\u001b[1;33m.\u001b[0m\u001b[0mremove\u001b[0m\u001b[1;33m(\u001b[0m\u001b[0mcnt_value\u001b[0m\u001b[1;33m[\u001b[0m\u001b[0mi\u001b[0m\u001b[1;33m-\u001b[0m\u001b[1;36m1\u001b[0m\u001b[1;33m]\u001b[0m\u001b[1;33m)\u001b[0m\u001b[1;33m\u001b[0m\u001b[1;33m\u001b[0m\u001b[0m\n\u001b[0m\u001b[0;32m     13\u001b[0m             \u001b[0mY_idx\u001b[0m\u001b[1;33m.\u001b[0m\u001b[0mremove\u001b[0m\u001b[1;33m(\u001b[0m\u001b[1;36m5\u001b[0m\u001b[1;33m)\u001b[0m\u001b[1;33m\u001b[0m\u001b[1;33m\u001b[0m\u001b[0m\n\u001b[0;32m     14\u001b[0m         \u001b[1;32melif\u001b[0m \u001b[0mi\u001b[0m \u001b[1;33m==\u001b[0m \u001b[1;36m1\u001b[0m\u001b[1;33m:\u001b[0m\u001b[1;33m\u001b[0m\u001b[1;33m\u001b[0m\u001b[0m\n",
      "\u001b[1;31mIndexError\u001b[0m: list index out of range"
     ]
    }
   ],
   "source": [
    "DF = call_df()\n",
    "idx = 53\n",
    "Y = DF[filtered_list[idx]]\n",
    "Y_idx = DF[filtered_list[idx]].value_counts().index.tolist()\n",
    "Y_idx = [int(x) for x in Y_idx]\n",
    "cnt_value = list(Y.value_counts())\n",
    "if len(cnt_value) == 5:\n",
    "    DF = DF[~((Y == 1) | (Y == 5))] #불필요한 레이블 삭제\n",
    "    \n",
    "    for i in range(1,6):\n",
    "        if i == 5:\n",
    "            cnt_value.remove(cnt_value[i-1])\n",
    "            Y_idx.remove(5)\n",
    "        elif i == 1:\n",
    "            cnt_value.remove(cnt_value[i-2])\n",
    "            Y_idx.remove(1)\n",
    "            \n",
    "Y_idx"
   ]
  },
  {
   "cell_type": "code",
   "execution_count": null,
   "id": "d90fe9da",
   "metadata": {},
   "outputs": [],
   "source": []
  },
  {
   "cell_type": "code",
   "execution_count": 316,
   "id": "f51c2dd1",
   "metadata": {
    "scrolled": true
   },
   "outputs": [
    {
     "name": "stdout",
     "output_type": "stream",
     "text": [
      "\n",
      "Index 53  ========================\n",
      " 4.0    3484\n",
      "3.0    3391\n",
      "2.0    1028\n",
      "5.0     844\n",
      "1.0     306\n",
      "Name: W20Q14D, dtype: int64\n",
      "[3484, 3391, 1028, 844] [4, 3, 2, 1] 844 3\n"
     ]
    },
    {
     "name": "stderr",
     "output_type": "stream",
     "text": [
      "C:\\Users\\hml76\\AppData\\Local\\Temp\\ipykernel_20640\\2857853982.py:32: UserWarning: Boolean Series key will be reindexed to match DataFrame index.\n",
      "  idx_with_condition = DF[Y == L].index\n",
      "C:\\Users\\hml76\\AppData\\Local\\Temp\\ipykernel_20640\\2857853982.py:32: UserWarning: Boolean Series key will be reindexed to match DataFrame index.\n",
      "  idx_with_condition = DF[Y == L].index\n",
      "C:\\Users\\hml76\\AppData\\Local\\Temp\\ipykernel_20640\\2857853982.py:32: UserWarning: Boolean Series key will be reindexed to match DataFrame index.\n",
      "  idx_with_condition = DF[Y == L].index\n"
     ]
    },
    {
     "ename": "ValueError",
     "evalue": "'a' cannot be empty unless no samples are taken",
     "output_type": "error",
     "traceback": [
      "\u001b[1;31m---------------------------------------------------------------------------\u001b[0m",
      "\u001b[1;31mValueError\u001b[0m                                Traceback (most recent call last)",
      "\u001b[1;32m~\\AppData\\Local\\Temp\\ipykernel_20640\\2857853982.py\u001b[0m in \u001b[0;36m<module>\u001b[1;34m\u001b[0m\n\u001b[0;32m     31\u001b[0m     \u001b[1;32mfor\u001b[0m \u001b[0mL\u001b[0m \u001b[1;32min\u001b[0m \u001b[0mY_idx\u001b[0m\u001b[1;33m:\u001b[0m \u001b[1;31m#가장 적은 레이블 보다 큰 레이블들\u001b[0m\u001b[1;33m\u001b[0m\u001b[1;33m\u001b[0m\u001b[0m\n\u001b[0;32m     32\u001b[0m         \u001b[0midx_with_condition\u001b[0m \u001b[1;33m=\u001b[0m \u001b[0mDF\u001b[0m\u001b[1;33m[\u001b[0m\u001b[0mY\u001b[0m \u001b[1;33m==\u001b[0m \u001b[0mL\u001b[0m\u001b[1;33m]\u001b[0m\u001b[1;33m.\u001b[0m\u001b[0mindex\u001b[0m\u001b[1;33m\u001b[0m\u001b[1;33m\u001b[0m\u001b[0m\n\u001b[1;32m---> 33\u001b[1;33m         \u001b[0mrandom_idx\u001b[0m \u001b[1;33m=\u001b[0m \u001b[0mnp\u001b[0m\u001b[1;33m.\u001b[0m\u001b[0mrandom\u001b[0m\u001b[1;33m.\u001b[0m\u001b[0mchoice\u001b[0m\u001b[1;33m(\u001b[0m\u001b[0midx_with_condition\u001b[0m\u001b[1;33m,\u001b[0m \u001b[0msize\u001b[0m\u001b[1;33m=\u001b[0m\u001b[1;33m(\u001b[0m\u001b[0mlen\u001b[0m\u001b[1;33m(\u001b[0m\u001b[0midx_with_condition\u001b[0m\u001b[1;33m)\u001b[0m\u001b[1;33m-\u001b[0m\u001b[0mN\u001b[0m\u001b[1;33m)\u001b[0m\u001b[1;33m,\u001b[0m \u001b[0mreplace\u001b[0m\u001b[1;33m=\u001b[0m\u001b[1;32mFalse\u001b[0m\u001b[1;33m)\u001b[0m \u001b[1;31m#랜덤이라 성능 차이가 좀날수도\u001b[0m\u001b[1;33m\u001b[0m\u001b[1;33m\u001b[0m\u001b[0m\n\u001b[0m\u001b[0;32m     34\u001b[0m         \u001b[0mDF\u001b[0m \u001b[1;33m=\u001b[0m \u001b[0mDF\u001b[0m\u001b[1;33m.\u001b[0m\u001b[0mdrop\u001b[0m\u001b[1;33m(\u001b[0m\u001b[0mrandom_idx\u001b[0m\u001b[1;33m)\u001b[0m\u001b[1;33m\u001b[0m\u001b[1;33m\u001b[0m\u001b[0m\n\u001b[0;32m     35\u001b[0m \u001b[1;33m\u001b[0m\u001b[0m\n",
      "\u001b[1;32mmtrand.pyx\u001b[0m in \u001b[0;36mnumpy.random.mtrand.RandomState.choice\u001b[1;34m()\u001b[0m\n",
      "\u001b[1;31mValueError\u001b[0m: 'a' cannot be empty unless no samples are taken"
     ]
    }
   ],
   "source": [
    "DF = call_df()\n",
    "idx = 53\n",
    "Y = DF[filtered_list[idx]]\n",
    "Y_idx = DF[filtered_list[idx]].value_counts().index.tolist()\n",
    "Y_idx = [int(x) for x in Y_idx]\n",
    "\n",
    "cnt_value = list(Y.value_counts())\n",
    "\n",
    "\n",
    "print(f\"\\nIndex {idx}  ========================\\n\", Y.value_counts()) #DF.shape\n",
    "\n",
    "if len(cnt_value) == 5:\n",
    "    DF = DF[~((Y == 1) | (Y == 5))] #불필요한 레이블 삭제\n",
    "    \n",
    "    for i in Y_idx:\n",
    "        if i == 1:\n",
    "            cnt_value.remove(cnt_value[i-1])\n",
    "            Y_idx.remove(1)\n",
    "        elif i == 5:\n",
    "            cnt_value.remove(cnt_value[i-1])\n",
    "            Y_idx.remove(5)\n",
    "            \n",
    "    N = min(cnt_value)\n",
    "    N_idx = np.argmin(cnt_value) \n",
    "    \n",
    "    print(cnt_value, Y_idx, N, N_idx)\n",
    "    \n",
    "    if N_idx in Y_idx:\n",
    "        Y_idx.remove(N_idx)\n",
    "    \n",
    "    for L in Y_idx: #가장 적은 레이블 보다 큰 레이블들\n",
    "        idx_with_condition = DF[Y == L].index\n",
    "        random_idx = np.random.choice(idx_with_condition, size=(len(idx_with_condition)-N), replace=False) #랜덤이라 성능 차이가 좀날수도\n",
    "        DF = DF.drop(random_idx)\n",
    "        \n",
    "    print(f\"\\nIndex {idx}  ========================\\n\", Y.value_counts())\n",
    "    subtract = np.min(Y)\n",
    "    y = Y-subtract\n",
    "\n",
    "    DF = DF.drop(columns = [filtered_list[idx]])\n",
    "    \n",
    "        \n",
    "#elif len(cnt_value) == 2:"
   ]
  },
  {
   "cell_type": "code",
   "execution_count": 314,
   "id": "afe00bfe",
   "metadata": {},
   "outputs": [
    {
     "data": {
      "text/plain": [
       "[3391, 306, 306]"
      ]
     },
     "execution_count": 314,
     "metadata": {},
     "output_type": "execute_result"
    }
   ],
   "source": [
    "list(DF[filtered_list[idx]].value_counts())"
   ]
  },
  {
   "cell_type": "code",
   "execution_count": 297,
   "id": "da881156",
   "metadata": {},
   "outputs": [
    {
     "data": {
      "text/plain": [
       "[4.0, 3.0, 2.0, 5.0, 1.0]"
      ]
     },
     "execution_count": 297,
     "metadata": {},
     "output_type": "execute_result"
    }
   ],
   "source": [
    "Y_idx"
   ]
  },
  {
   "cell_type": "code",
   "execution_count": null,
   "id": "890cd216",
   "metadata": {},
   "outputs": [],
   "source": []
  },
  {
   "cell_type": "code",
   "execution_count": null,
   "id": "44426161",
   "metadata": {},
   "outputs": [],
   "source": []
  },
  {
   "cell_type": "code",
   "execution_count": null,
   "id": "7f7daca4",
   "metadata": {},
   "outputs": [],
   "source": []
  },
  {
   "cell_type": "code",
   "execution_count": null,
   "id": "aa5e7451",
   "metadata": {},
   "outputs": [],
   "source": []
  },
  {
   "cell_type": "code",
   "execution_count": null,
   "id": "5290376c",
   "metadata": {},
   "outputs": [],
   "source": []
  },
  {
   "cell_type": "code",
   "execution_count": null,
   "id": "14db2d45",
   "metadata": {},
   "outputs": [],
   "source": []
  },
  {
   "cell_type": "code",
   "execution_count": 362,
   "id": "342cc31b",
   "metadata": {},
   "outputs": [
    {
     "name": "stdout",
     "output_type": "stream",
     "text": [
      "\n",
      "Index 59  ========================\n",
      " 2.0    5242\n",
      "1.0    3811\n",
      "Name: W20Q15D1, dtype: int64\n"
     ]
    }
   ],
   "source": [
    "idx = 59\n",
    "DF = call_df()\n",
    "print(f\"\\nIndex {idx}  ========================\\n\", DF[filtered_list[idx]].value_counts()) #DF.shape"
   ]
  },
  {
   "cell_type": "code",
   "execution_count": 363,
   "id": "151bf403",
   "metadata": {
    "scrolled": true
   },
   "outputs": [
    {
     "name": "stdout",
     "output_type": "stream",
     "text": [
      "\n",
      "Index 59  ========================\n",
      " 2.0    3811\n",
      "1.0    3811\n",
      "Name: W20Q15D1, dtype: int64\n"
     ]
    },
    {
     "data": {
      "text/plain": [
       "(7622, 138)"
      ]
     },
     "execution_count": 363,
     "metadata": {},
     "output_type": "execute_result"
    }
   ],
   "source": [
    "total_labels, Erased_labels = [1,2], []\n",
    "#total_labels, Erased_labels = [2,3,4], [1,5,8]\n",
    "#total_labels, Erased_labels = [2,3,4], [1,5]\n",
    "\n",
    "#DF = DF[DF[filtered_list[idx]] != 2] #1이면 삭제\n",
    "#DF = DF[~((DF[filtered_list[idx]] == Erased_labels[0]) | (DF[filtered_list[idx]] == Erased_labels[1]))] #불필요한 레이블 삭제\n",
    "#DF = DF[~((DF[filtered_list[idx]] == Erased_labels[0]) | (DF[filtered_list[idx]] == Erased_labels[1]) | (DF[filtered_list[idx]] == Erased_labels[2]))] \n",
    "\n",
    "N = 3811 #가장 적은 레이블 수\n",
    " \n",
    "for L in [2]: #가장 적은 레이블 보다 큰 레이블들\n",
    "    idx_with_condition = df[df[filtered_list[idx]] == L].index\n",
    "    random_idx = np.random.choice(idx_with_condition, size=(len(idx_with_condition)-N), replace=False) #랜덤이라 성능 차이가 좀날수도\n",
    "    DF = DF.drop(random_idx)\n",
    "\n",
    "print(f\"\\nIndex {idx}  ========================\\n\", DF[filtered_list[idx]].value_counts())\n",
    "\n",
    "y = DF[filtered_list[idx]]\n",
    "subtract = np.min(y)\n",
    "y = y-subtract\n",
    "\n",
    "DF = DF.drop(columns = [filtered_list[idx]])\n",
    "DF.shape"
   ]
  },
  {
   "cell_type": "code",
   "execution_count": 364,
   "id": "25f96a88",
   "metadata": {
    "scrolled": true
   },
   "outputs": [
    {
     "name": "stdout",
     "output_type": "stream",
     "text": [
      "59\n",
      "Accuracy: 1.0\n"
     ]
    },
    {
     "data": {
      "image/png": "[encoded data removed]",
      "text/plain": [
       "<Figure size 1000x600 with 1 Axes>"
      ]
     },
     "metadata": {},
     "output_type": "display_data"
    }
   ],
   "source": [
    "print(idx)\n",
    "acc, xgb_model_ = XGBoost_multiclass(np.array(DF), y)"
   ]
  },
  {
   "cell_type": "code",
   "execution_count": 360,
   "id": "37286eed",
   "metadata": {},
   "outputs": [
    {
     "ename": "AttributeError",
     "evalue": "'Booster' object has no attribute 'feature_importances_'",
     "output_type": "error",
     "traceback": [
      "\u001b[1;31m---------------------------------------------------------------------------\u001b[0m",
      "\u001b[1;31mAttributeError\u001b[0m                            Traceback (most recent call last)",
      "\u001b[1;32m~\\AppData\\Local\\Temp\\ipykernel_20640\\2999925800.py\u001b[0m in \u001b[0;36m<module>\u001b[1;34m\u001b[0m\n\u001b[1;32m----> 1\u001b[1;33m \u001b[0mimportance\u001b[0m \u001b[1;33m=\u001b[0m \u001b[0mxgb_model_\u001b[0m\u001b[1;33m.\u001b[0m\u001b[0mfeature_importances_\u001b[0m\u001b[1;33m\u001b[0m\u001b[1;33m\u001b[0m\u001b[0m\n\u001b[0m\u001b[0;32m      2\u001b[0m \u001b[0mfeature_importance_df\u001b[0m \u001b[1;33m=\u001b[0m \u001b[0mpd\u001b[0m\u001b[1;33m.\u001b[0m\u001b[0mDataFrame\u001b[0m\u001b[1;33m(\u001b[0m\u001b[1;33m{\u001b[0m\u001b[1;34m'Feature'\u001b[0m\u001b[1;33m:\u001b[0m \u001b[0mX\u001b[0m\u001b[1;33m.\u001b[0m\u001b[0mcolumns\u001b[0m\u001b[1;33m,\u001b[0m \u001b[1;34m'Importance'\u001b[0m\u001b[1;33m:\u001b[0m \u001b[0mimportance\u001b[0m\u001b[1;33m}\u001b[0m\u001b[1;33m)\u001b[0m\u001b[1;33m\u001b[0m\u001b[1;33m\u001b[0m\u001b[0m\n\u001b[0;32m      3\u001b[0m \u001b[1;33m\u001b[0m\u001b[0m\n\u001b[0;32m      4\u001b[0m \u001b[0mfeature_importance_df\u001b[0m \u001b[1;33m=\u001b[0m \u001b[0mfeature_importance_df\u001b[0m\u001b[1;33m.\u001b[0m\u001b[0msort_values\u001b[0m\u001b[1;33m(\u001b[0m\u001b[0mby\u001b[0m\u001b[1;33m=\u001b[0m\u001b[1;34m'Importance'\u001b[0m\u001b[1;33m,\u001b[0m \u001b[0mascending\u001b[0m\u001b[1;33m=\u001b[0m\u001b[1;32mFalse\u001b[0m\u001b[1;33m)\u001b[0m\u001b[1;33m\u001b[0m\u001b[1;33m\u001b[0m\u001b[0m\n\u001b[0;32m      5\u001b[0m \u001b[1;33m\u001b[0m\u001b[0m\n",
      "\u001b[1;31mAttributeError\u001b[0m: 'Booster' object has no attribute 'feature_importances_'"
     ]
    }
   ],
   "source": [
    "importance = xgb_model_.feature_importances_\n",
    "feature_importance_df = pd.DataFrame({'Feature': X.columns, 'Importance': importance})\n",
    "\n",
    "feature_importance_df = feature_importance_df.sort_values(by='Importance', ascending=False)\n",
    "\n",
    "print(\"Feature Importance:\")\n",
    "print(feature_importance_df)"
   ]
  },
  {
   "cell_type": "code",
   "execution_count": null,
   "id": "1bde4b9d",
   "metadata": {},
   "outputs": [],
   "source": []
  },
  {
   "cell_type": "code",
   "execution_count": null,
   "id": "61046cec",
   "metadata": {},
   "outputs": [],
   "source": []
  },
  {
   "cell_type": "code",
   "execution_count": 348,
   "id": "35be8f7b",
   "metadata": {},
   "outputs": [],
   "source": [
    "Result.append((idx, acc, total_labels, filtered_list[idx]))\n",
    "gc.collect()\n",
    "del DF, idx, y"
   ]
  },
  {
   "cell_type": "code",
   "execution_count": null,
   "id": "20d62ed7",
   "metadata": {},
   "outputs": [],
   "source": []
  },
  {
   "cell_type": "code",
   "execution_count": null,
   "id": "301e35c5",
   "metadata": {},
   "outputs": [],
   "source": [
    "#성능은 설문조사의 신뢰도와 직결하는 듯함 (보통 3,4,5가 높으면 성능이 확실히 낮은듯)\n",
    "\n",
    "#기존의 설문조사자체의 tendency(Bias)를 뺀다?"
   ]
  },
  {
   "cell_type": "code",
   "execution_count": 353,
   "id": "5447afde",
   "metadata": {},
   "outputs": [
    {
     "data": {
      "text/plain": [
       "46"
      ]
     },
     "execution_count": 353,
     "metadata": {},
     "output_type": "execute_result"
    }
   ],
   "source": [
    "len(Result)"
   ]
  },
  {
   "cell_type": "code",
   "execution_count": null,
   "id": "ef8de253",
   "metadata": {},
   "outputs": [],
   "source": []
  },
  {
   "cell_type": "code",
   "execution_count": null,
   "id": "3dcae3b7",
   "metadata": {},
   "outputs": [],
   "source": []
  },
  {
   "cell_type": "code",
   "execution_count": null,
   "id": "6f1f3fc5",
   "metadata": {},
   "outputs": [],
   "source": []
  },
  {
   "cell_type": "code",
   "execution_count": 366,
   "id": "9588cf91",
   "metadata": {},
   "outputs": [
    {
     "name": "stdout",
     "output_type": "stream",
     "text": [
      "\n",
      "Index 59  ========================\n",
      " 2.0    5242\n",
      "1.0    3811\n",
      "Name: W20Q15D1, dtype: int64\n"
     ]
    }
   ],
   "source": [
    "idx = 59\n",
    "DF = call_df()\n",
    "print(f\"\\nIndex {idx}  ========================\\n\", DF[filtered_list[idx]].value_counts()) #DF.shape"
   ]
  },
  {
   "cell_type": "code",
   "execution_count": 367,
   "id": "c120a133",
   "metadata": {},
   "outputs": [
    {
     "name": "stdout",
     "output_type": "stream",
     "text": [
      "\n",
      "Index 59  ========================\n",
      " 2.0    3811\n",
      "1.0    3811\n",
      "Name: W20Q15D1, dtype: int64\n"
     ]
    },
    {
     "data": {
      "text/plain": [
       "(7622, 138)"
      ]
     },
     "execution_count": 367,
     "metadata": {},
     "output_type": "execute_result"
    }
   ],
   "source": [
    "total_labels, Erased_labels = [1,2], []\n",
    "N = 3811 #가장 적은 레이블 수\n",
    " \n",
    "for L in [2]: #가장 적은 레이블 보다 큰 레이블들\n",
    "    idx_with_condition = df[df[filtered_list[idx]] == L].index\n",
    "    random_idx = np.random.choice(idx_with_condition, size=(len(idx_with_condition)-N), replace=False) #랜덤이라 성능 차이가 좀날수도\n",
    "    DF = DF.drop(random_idx)\n",
    "\n",
    "print(f\"\\nIndex {idx}  ========================\\n\", DF[filtered_list[idx]].value_counts())\n",
    "\n",
    "y = DF[filtered_list[idx]]\n",
    "subtract = np.min(y)\n",
    "y = y-subtract\n",
    "\n",
    "DF = DF.drop(columns = [filtered_list[idx]])\n",
    "DF.shape"
   ]
  },
  {
   "cell_type": "code",
   "execution_count": 368,
   "id": "9537d1c3",
   "metadata": {},
   "outputs": [],
   "source": [
    "X = DF"
   ]
  },
  {
   "cell_type": "code",
   "execution_count": 379,
   "id": "8bc80a3b",
   "metadata": {},
   "outputs": [
    {
     "data": {
      "text/html": [
       "<div>\n",
       "<style scoped>\n",
       "    .dataframe tbody tr th:only-of-type {\n",
       "        vertical-align: middle;\n",
       "    }\n",
       "\n",
       "    .dataframe tbody tr th {\n",
       "        vertical-align: top;\n",
       "    }\n",
       "\n",
       "    .dataframe thead th {\n",
       "        text-align: right;\n",
       "    }\n",
       "</style>\n",
       "<table border=\"1\" class=\"dataframe\">\n",
       "  <thead>\n",
       "    <tr style=\"text-align: right;\">\n",
       "      <th></th>\n",
       "      <th>W20ID1</th>\n",
       "      <th>W20IND1</th>\n",
       "      <th>W20SCALE</th>\n",
       "      <th>W20Q01A</th>\n",
       "      <th>W20Q01B</th>\n",
       "      <th>W20Q02A</th>\n",
       "      <th>W20Q02B</th>\n",
       "      <th>W20Q03A</th>\n",
       "      <th>W20Q03B</th>\n",
       "      <th>W20Q04</th>\n",
       "      <th>...</th>\n",
       "      <th>W20Q301</th>\n",
       "      <th>W20Q302</th>\n",
       "      <th>W20Q31A</th>\n",
       "      <th>W20Q31B</th>\n",
       "      <th>W20DQ01</th>\n",
       "      <th>W20DQ02A</th>\n",
       "      <th>W20DQ02B</th>\n",
       "      <th>W20DQ03</th>\n",
       "      <th>W20DQ04</th>\n",
       "      <th>W20DQ041</th>\n",
       "    </tr>\n",
       "  </thead>\n",
       "  <tbody>\n",
       "    <tr>\n",
       "      <th>1871</th>\n",
       "      <td>325.0</td>\n",
       "      <td>1.0</td>\n",
       "      <td>1.0</td>\n",
       "      <td>2006.0</td>\n",
       "      <td>5.0</td>\n",
       "      <td>2012.0</td>\n",
       "      <td>3.0</td>\n",
       "      <td>5.0</td>\n",
       "      <td>6.0</td>\n",
       "      <td>12.0</td>\n",
       "      <td>...</td>\n",
       "      <td>40.0</td>\n",
       "      <td>7.0</td>\n",
       "      <td>9500.0</td>\n",
       "      <td>NaN</td>\n",
       "      <td>1.0</td>\n",
       "      <td>1969.0</td>\n",
       "      <td>9.0</td>\n",
       "      <td>2.0</td>\n",
       "      <td>5.0</td>\n",
       "      <td>2.0</td>\n",
       "    </tr>\n",
       "    <tr>\n",
       "      <th>4777</th>\n",
       "      <td>1318.0</td>\n",
       "      <td>1.0</td>\n",
       "      <td>1.0</td>\n",
       "      <td>2016.0</td>\n",
       "      <td>11.0</td>\n",
       "      <td>2020.0</td>\n",
       "      <td>1.0</td>\n",
       "      <td>1.0</td>\n",
       "      <td>3.0</td>\n",
       "      <td>1.0</td>\n",
       "      <td>...</td>\n",
       "      <td>40.0</td>\n",
       "      <td>0.0</td>\n",
       "      <td>4000.0</td>\n",
       "      <td>NaN</td>\n",
       "      <td>1.0</td>\n",
       "      <td>1991.0</td>\n",
       "      <td>11.0</td>\n",
       "      <td>1.0</td>\n",
       "      <td>5.0</td>\n",
       "      <td>3.0</td>\n",
       "    </tr>\n",
       "    <tr>\n",
       "      <th>5450</th>\n",
       "      <td>1794.0</td>\n",
       "      <td>1.0</td>\n",
       "      <td>1.0</td>\n",
       "      <td>2011.0</td>\n",
       "      <td>1.0</td>\n",
       "      <td>2013.0</td>\n",
       "      <td>2.0</td>\n",
       "      <td>1.0</td>\n",
       "      <td>8.0</td>\n",
       "      <td>20.0</td>\n",
       "      <td>...</td>\n",
       "      <td>40.0</td>\n",
       "      <td>1.0</td>\n",
       "      <td>3000.0</td>\n",
       "      <td>NaN</td>\n",
       "      <td>2.0</td>\n",
       "      <td>1961.0</td>\n",
       "      <td>8.0</td>\n",
       "      <td>2.0</td>\n",
       "      <td>2.0</td>\n",
       "      <td>NaN</td>\n",
       "    </tr>\n",
       "    <tr>\n",
       "      <th>1199</th>\n",
       "      <td>212.0</td>\n",
       "      <td>1.0</td>\n",
       "      <td>2.0</td>\n",
       "      <td>1989.0</td>\n",
       "      <td>3.0</td>\n",
       "      <td>2013.0</td>\n",
       "      <td>1.0</td>\n",
       "      <td>1.0</td>\n",
       "      <td>5.0</td>\n",
       "      <td>16.0</td>\n",
       "      <td>...</td>\n",
       "      <td>40.0</td>\n",
       "      <td>0.0</td>\n",
       "      <td>4600.0</td>\n",
       "      <td>NaN</td>\n",
       "      <td>1.0</td>\n",
       "      <td>1966.0</td>\n",
       "      <td>3.0</td>\n",
       "      <td>1.0</td>\n",
       "      <td>3.0</td>\n",
       "      <td>NaN</td>\n",
       "    </tr>\n",
       "    <tr>\n",
       "      <th>1786</th>\n",
       "      <td>305.0</td>\n",
       "      <td>1.0</td>\n",
       "      <td>2.0</td>\n",
       "      <td>1997.0</td>\n",
       "      <td>11.0</td>\n",
       "      <td>2015.0</td>\n",
       "      <td>4.0</td>\n",
       "      <td>1.0</td>\n",
       "      <td>6.0</td>\n",
       "      <td>11.0</td>\n",
       "      <td>...</td>\n",
       "      <td>40.0</td>\n",
       "      <td>0.0</td>\n",
       "      <td>7650.0</td>\n",
       "      <td>NaN</td>\n",
       "      <td>1.0</td>\n",
       "      <td>1974.0</td>\n",
       "      <td>7.0</td>\n",
       "      <td>2.0</td>\n",
       "      <td>5.0</td>\n",
       "      <td>2.0</td>\n",
       "    </tr>\n",
       "    <tr>\n",
       "      <th>...</th>\n",
       "      <td>...</td>\n",
       "      <td>...</td>\n",
       "      <td>...</td>\n",
       "      <td>...</td>\n",
       "      <td>...</td>\n",
       "      <td>...</td>\n",
       "      <td>...</td>\n",
       "      <td>...</td>\n",
       "      <td>...</td>\n",
       "      <td>...</td>\n",
       "      <td>...</td>\n",
       "      <td>...</td>\n",
       "      <td>...</td>\n",
       "      <td>...</td>\n",
       "      <td>...</td>\n",
       "      <td>...</td>\n",
       "      <td>...</td>\n",
       "      <td>...</td>\n",
       "      <td>...</td>\n",
       "      <td>...</td>\n",
       "      <td>...</td>\n",
       "    </tr>\n",
       "    <tr>\n",
       "      <th>6170</th>\n",
       "      <td>2365.0</td>\n",
       "      <td>1.0</td>\n",
       "      <td>1.0</td>\n",
       "      <td>2020.0</td>\n",
       "      <td>4.0</td>\n",
       "      <td>2020.0</td>\n",
       "      <td>4.0</td>\n",
       "      <td>3.0</td>\n",
       "      <td>3.0</td>\n",
       "      <td>4.0</td>\n",
       "      <td>...</td>\n",
       "      <td>40.0</td>\n",
       "      <td>0.0</td>\n",
       "      <td>NaN</td>\n",
       "      <td>250.0</td>\n",
       "      <td>2.0</td>\n",
       "      <td>1985.0</td>\n",
       "      <td>8.0</td>\n",
       "      <td>1.0</td>\n",
       "      <td>5.0</td>\n",
       "      <td>1.0</td>\n",
       "    </tr>\n",
       "    <tr>\n",
       "      <th>6366</th>\n",
       "      <td>2559.0</td>\n",
       "      <td>1.0</td>\n",
       "      <td>1.0</td>\n",
       "      <td>2020.0</td>\n",
       "      <td>8.0</td>\n",
       "      <td>2020.0</td>\n",
       "      <td>8.0</td>\n",
       "      <td>4.0</td>\n",
       "      <td>4.0</td>\n",
       "      <td>4.0</td>\n",
       "      <td>...</td>\n",
       "      <td>40.0</td>\n",
       "      <td>5.0</td>\n",
       "      <td>NaN</td>\n",
       "      <td>360.0</td>\n",
       "      <td>1.0</td>\n",
       "      <td>1979.0</td>\n",
       "      <td>8.0</td>\n",
       "      <td>2.0</td>\n",
       "      <td>4.0</td>\n",
       "      <td>4.0</td>\n",
       "    </tr>\n",
       "    <tr>\n",
       "      <th>1003</th>\n",
       "      <td>179.0</td>\n",
       "      <td>1.0</td>\n",
       "      <td>1.0</td>\n",
       "      <td>2012.0</td>\n",
       "      <td>2.0</td>\n",
       "      <td>2017.0</td>\n",
       "      <td>12.0</td>\n",
       "      <td>1.0</td>\n",
       "      <td>4.0</td>\n",
       "      <td>12.0</td>\n",
       "      <td>...</td>\n",
       "      <td>40.0</td>\n",
       "      <td>5.0</td>\n",
       "      <td>4370.0</td>\n",
       "      <td>NaN</td>\n",
       "      <td>1.0</td>\n",
       "      <td>1979.0</td>\n",
       "      <td>11.0</td>\n",
       "      <td>1.0</td>\n",
       "      <td>5.0</td>\n",
       "      <td>2.0</td>\n",
       "    </tr>\n",
       "    <tr>\n",
       "      <th>9031</th>\n",
       "      <td>4061.0</td>\n",
       "      <td>1.0</td>\n",
       "      <td>1.0</td>\n",
       "      <td>2012.0</td>\n",
       "      <td>11.0</td>\n",
       "      <td>2019.0</td>\n",
       "      <td>1.0</td>\n",
       "      <td>1.0</td>\n",
       "      <td>3.0</td>\n",
       "      <td>4.0</td>\n",
       "      <td>...</td>\n",
       "      <td>40.0</td>\n",
       "      <td>3.0</td>\n",
       "      <td>2950.0</td>\n",
       "      <td>NaN</td>\n",
       "      <td>2.0</td>\n",
       "      <td>1995.0</td>\n",
       "      <td>1.0</td>\n",
       "      <td>1.0</td>\n",
       "      <td>5.0</td>\n",
       "      <td>1.0</td>\n",
       "    </tr>\n",
       "    <tr>\n",
       "      <th>8637</th>\n",
       "      <td>3693.0</td>\n",
       "      <td>1.0</td>\n",
       "      <td>2.0</td>\n",
       "      <td>2014.0</td>\n",
       "      <td>7.0</td>\n",
       "      <td>2016.0</td>\n",
       "      <td>1.0</td>\n",
       "      <td>4.0</td>\n",
       "      <td>5.0</td>\n",
       "      <td>16.0</td>\n",
       "      <td>...</td>\n",
       "      <td>40.0</td>\n",
       "      <td>0.0</td>\n",
       "      <td>5040.0</td>\n",
       "      <td>NaN</td>\n",
       "      <td>1.0</td>\n",
       "      <td>1972.0</td>\n",
       "      <td>7.0</td>\n",
       "      <td>2.0</td>\n",
       "      <td>5.0</td>\n",
       "      <td>4.0</td>\n",
       "    </tr>\n",
       "  </tbody>\n",
       "</table>\n",
       "<p>6859 rows × 138 columns</p>\n",
       "</div>"
      ],
      "text/plain": [
       "      W20ID1  W20IND1  W20SCALE  W20Q01A  W20Q01B  W20Q02A  W20Q02B  W20Q03A  \\\n",
       "1871   325.0      1.0       1.0   2006.0      5.0   2012.0      3.0      5.0   \n",
       "4777  1318.0      1.0       1.0   2016.0     11.0   2020.0      1.0      1.0   \n",
       "5450  1794.0      1.0       1.0   2011.0      1.0   2013.0      2.0      1.0   \n",
       "1199   212.0      1.0       2.0   1989.0      3.0   2013.0      1.0      1.0   \n",
       "1786   305.0      1.0       2.0   1997.0     11.0   2015.0      4.0      1.0   \n",
       "...      ...      ...       ...      ...      ...      ...      ...      ...   \n",
       "6170  2365.0      1.0       1.0   2020.0      4.0   2020.0      4.0      3.0   \n",
       "6366  2559.0      1.0       1.0   2020.0      8.0   2020.0      8.0      4.0   \n",
       "1003   179.0      1.0       1.0   2012.0      2.0   2017.0     12.0      1.0   \n",
       "9031  4061.0      1.0       1.0   2012.0     11.0   2019.0      1.0      1.0   \n",
       "8637  3693.0      1.0       2.0   2014.0      7.0   2016.0      1.0      4.0   \n",
       "\n",
       "      W20Q03B  W20Q04  ...  W20Q301  W20Q302  W20Q31A  W20Q31B  W20DQ01  \\\n",
       "1871      6.0    12.0  ...     40.0      7.0   9500.0      NaN      1.0   \n",
       "4777      3.0     1.0  ...     40.0      0.0   4000.0      NaN      1.0   \n",
       "5450      8.0    20.0  ...     40.0      1.0   3000.0      NaN      2.0   \n",
       "1199      5.0    16.0  ...     40.0      0.0   4600.0      NaN      1.0   \n",
       "1786      6.0    11.0  ...     40.0      0.0   7650.0      NaN      1.0   \n",
       "...       ...     ...  ...      ...      ...      ...      ...      ...   \n",
       "6170      3.0     4.0  ...     40.0      0.0      NaN    250.0      2.0   \n",
       "6366      4.0     4.0  ...     40.0      5.0      NaN    360.0      1.0   \n",
       "1003      4.0    12.0  ...     40.0      5.0   4370.0      NaN      1.0   \n",
       "9031      3.0     4.0  ...     40.0      3.0   2950.0      NaN      2.0   \n",
       "8637      5.0    16.0  ...     40.0      0.0   5040.0      NaN      1.0   \n",
       "\n",
       "      W20DQ02A  W20DQ02B  W20DQ03  W20DQ04  W20DQ041  \n",
       "1871    1969.0       9.0      2.0      5.0       2.0  \n",
       "4777    1991.0      11.0      1.0      5.0       3.0  \n",
       "5450    1961.0       8.0      2.0      2.0       NaN  \n",
       "1199    1966.0       3.0      1.0      3.0       NaN  \n",
       "1786    1974.0       7.0      2.0      5.0       2.0  \n",
       "...        ...       ...      ...      ...       ...  \n",
       "6170    1985.0       8.0      1.0      5.0       1.0  \n",
       "6366    1979.0       8.0      2.0      4.0       4.0  \n",
       "1003    1979.0      11.0      1.0      5.0       2.0  \n",
       "9031    1995.0       1.0      1.0      5.0       1.0  \n",
       "8637    1972.0       7.0      2.0      5.0       4.0  \n",
       "\n",
       "[6859 rows x 138 columns]"
      ]
     },
     "execution_count": 379,
     "metadata": {},
     "output_type": "execute_result"
    }
   ],
   "source": [
    "X_train"
   ]
  },
  {
   "cell_type": "code",
   "execution_count": null,
   "id": "8ec4c970",
   "metadata": {},
   "outputs": [],
   "source": []
  },
  {
   "cell_type": "code",
   "execution_count": 386,
   "id": "d2fe4caa",
   "metadata": {
    "scrolled": true
   },
   "outputs": [
    {
     "name": "stdout",
     "output_type": "stream",
     "text": [
      "Accuracy: 1.0\n"
     ]
    },
    {
     "data": {
      "image/png": "[encoded data removed]",
      "text/plain": [
       "<Figure size 1000x600 with 1 Axes>"
      ]
     },
     "metadata": {},
     "output_type": "display_data"
    }
   ],
   "source": [
    "X_train, X_test, y_train, y_test = train_test_split(X, y, test_size=0.1, random_state=42)\n",
    "\n",
    "params = {\n",
    "    'objective': 'multi:softmax',  # Multi-class classification\n",
    "    'num_class': len(set(y)),      # Number of classes\n",
    "    'eval_metric': 'merror'         # Error rate (1-accuracy)\n",
    "}\n",
    "\n",
    "dtrain = xgb.DMatrix(X_train, label=y_train)\n",
    "dtest = xgb.DMatrix(X_test, label=y_test)\n",
    "\n",
    "num_rounds = 300\n",
    "model = xgb.train(params, dtrain, num_rounds)\n",
    "y_pred = model.predict(dtest)\n",
    "\n",
    "accuracy = accuracy_score(y_test, y_pred)\n",
    "print(\"Accuracy:\", accuracy)\n",
    "feature_importance = model.get_score(importance_type='weight')\n",
    "\n",
    "#feature_importance = {k: v for k, v in sorted(feature_importance.items(), key=lambda item: item[1], reverse=True)}\n",
    "\n",
    "plt.figure(figsize=(10, 6))\n",
    "plt.barh(range(len(feature_importance)), list(feature_importance.values()), align='center')\n",
    "plt.yticks(range(len(feature_importance)), list(feature_importance.keys()))\n",
    "plt.xlabel('Feature Importance')\n",
    "plt.ylabel('Feature')\n",
    "plt.title('Feature Importance Plot')\n",
    "plt.show()    "
   ]
  },
  {
   "cell_type": "code",
   "execution_count": null,
   "id": "08f86c5f",
   "metadata": {},
   "outputs": [],
   "source": []
  },
  {
   "cell_type": "code",
   "execution_count": 382,
   "id": "b45f9d64",
   "metadata": {},
   "outputs": [
    {
     "data": {
      "text/plain": [
       "array([0., 0., 0., 0., 0., 0., 0., 0., 0., 0., 0., 0., 0., 0., 0., 0., 0.,\n",
       "       0., 0., 0., 0., 0., 0., 0., 0., 0., 0., 0., 0., 0., 0., 0., 0., 0.,\n",
       "       0., 0., 0., 0., 0., 0., 0., 0., 0., 0., 0., 0., 0., 0., 0., 0., 0.,\n",
       "       0., 0., 0., 0., 0., 0., 0., 0., 0., 0., 0., 0., 0., 0., 0., 0., 0.,\n",
       "       0., 1., 0., 0., 0., 0., 0., 0., 0., 0., 0., 0., 0., 0., 0., 0., 0.,\n",
       "       0., 0., 0., 0., 0., 0., 0., 0., 0., 0., 0., 0., 0., 0., 0., 0., 0.,\n",
       "       0., 0., 0., 0., 0., 0., 0., 0., 0., 0., 0., 0., 0., 0., 0., 0., 0.,\n",
       "       0., 0., 0., 0., 0., 0., 0., 0., 0., 0., 0., 0., 0., 0., 0., 0., 0.,\n",
       "       0., 0.], dtype=float32)"
      ]
     },
     "execution_count": 382,
     "metadata": {},
     "output_type": "execute_result"
    }
   ],
   "source": [
    "model.feature_importances_"
   ]
  },
  {
   "cell_type": "code",
   "execution_count": null,
   "id": "974564cf",
   "metadata": {},
   "outputs": [],
   "source": []
  }
 ],
 "metadata": {
  "kernelspec": {
   "display_name": "GPU",
   "language": "python",
   "name": "gpu"
  },
  "language_info": {
   "codemirror_mode": {
    "name": "ipython",
    "version": 3
   },
   "file_extension": ".py",
   "mimetype": "text/x-python",
   "name": "python",
   "nbconvert_exporter": "python",
   "pygments_lexer": "ipython3",
   "version": "3.9.13"
  }
 },
 "nbformat": 4,
 "nbformat_minor": 5
}
